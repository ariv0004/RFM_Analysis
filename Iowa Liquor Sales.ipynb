{
 "cells": [
  {
   "cell_type": "markdown",
   "metadata": {},
   "source": [
    "## Iowa Liquor Sales"
   ]
  },
  {
   "cell_type": "markdown",
   "metadata": {},
   "source": [
    "### Import Package"
   ]
  },
  {
   "cell_type": "code",
   "execution_count": null,
   "metadata": {},
   "outputs": [],
   "source": [
    "import pandas as pd\n",
    "import matplotlib.pyplot as plt\n",
    "import numpy as np\n",
    "import plotly.graph_objects as go\n",
    "from plotly.subplots import make_subplots\n",
    "import plotly.express as px\n",
    "import plotly.figure_factory as ff\n",
    "from datetime import time\n",
    "from datetime import datetime\n",
    "import datetime"
   ]
  },
  {
   "cell_type": "markdown",
   "metadata": {},
   "source": [
    "In this task we will explore the data of Iowa Liquor Sales. Since the data is very large we will to some sample from the data using a SQL query in the Google BigQuery. Before we discuss the query we need to explain how we going to take the sample.\n",
    "\n",
    "Firstly, we took the data between 01 January 2020 to 29 January 2021 because the data is much more updated since the maximum date is on 29 January 2021. We will be looking at the number of Transaction in every store between that date. The query is\n",
    "\n",
    "`SELECT * \n",
    "FROM bigquery-public-data.iowa_liquor_sales.sales \n",
    "where (date BETWEEN '2020-01-01' AND '2021-01-29')`\n",
    "\n",
    "the result will be below."
   ]
  },
  {
   "cell_type": "code",
   "execution_count": null,
   "metadata": {},
   "outputs": [],
   "source": [
    "df = pd.read_csv(\"full_data.csv\")"
   ]
  },
  {
   "cell_type": "code",
   "execution_count": null,
   "metadata": {},
   "outputs": [],
   "source": [
    "sales_total = df.groupby('store_number').sum()[[\"sale_dollars\"]]"
   ]
  },
  {
   "cell_type": "code",
   "execution_count": null,
   "metadata": {},
   "outputs": [],
   "source": [
    "fig = go.Figure()\n",
    "# Use x instead of y argument for horizontal plot\n",
    "fig.add_trace(go.Box(x=sales_total[\"sale_dollars\"],\n",
    "                     name=\"sale dollars\"))\n",
    "\n",
    "fig.update_layout(title_text=\"Box Plot Every total sales in all store between 01 January 2020 to 29 January 2021\")\n",
    "\n",
    "fig.show()"
   ]
  },
  {
   "cell_type": "markdown",
   "metadata": {},
   "source": [
    "We can see from the boxplot there are some store that have high sales we need to compare how can this sales grow more compare to the minimum sales."
   ]
  },
  {
   "cell_type": "markdown",
   "metadata": {},
   "source": [
    "### Exploration Dataset\n",
    "\n",
    "Firstly, we will look at the dataset if there is a null value."
   ]
  },
  {
   "cell_type": "code",
   "execution_count": null,
   "metadata": {},
   "outputs": [],
   "source": [
    "# print(df.isnull().sum())"
   ]
  },
  {
   "cell_type": "markdown",
   "metadata": {},
   "source": [
    "As you can see that there are some Null value the store location. This might be an unknown transaction or fraud transactions since the are no location. so we need to filter the data and fill some of the missing value"
   ]
  },
  {
   "cell_type": "code",
   "execution_count": null,
   "metadata": {},
   "outputs": [],
   "source": [
    "df['store_location'] = df['store_location'].fillna('NA')\n",
    "df['category'] = df['category'].fillna(0)\n",
    "df['vendor_number'] = df['vendor_number'].fillna(0)\n",
    "df['category_name'] = df['category_name'].fillna('other').str.upper()\n",
    "df['vendor_name'] = df['vendor_name'].fillna('other').str.upper()\n",
    "df['county'] = df['county'].str.upper()\n",
    "df['city'] = df['city'].str.upper()\n",
    "df['item_description'] = df['item_description'].str.upper()\n",
    "\n",
    "\n",
    "df = df[(df['store_location'] != \"NA\")]\n",
    "df.drop_duplicates()\n",
    "df = df.reset_index(drop=True)"
   ]
  },
  {
   "cell_type": "code",
   "execution_count": null,
   "metadata": {},
   "outputs": [],
   "source": [
    "full_df_cat = df.groupby(['category_name','pack','date'])['sale_dollars'].sum().groupby(\n",
    "            ['category_name','pack']).max().sort_values().groupby(\n",
    "            ['category_name']).sum().sort_values(ascending=False)\n",
    "\n",
    "top_count10_cat = pd.DataFrame(full_df_cat.head(10))"
   ]
  },
  {
   "cell_type": "code",
   "execution_count": null,
   "metadata": {},
   "outputs": [],
   "source": [
    "fig_reg = px.bar(top_count10_cat,x=top_count10_cat.index, y='sale_dollars',color='sale_dollars')\n",
    "fig_reg.update_layout(\n",
    "    title=\"Top 10 Sales of liquor per category 01 January 2020 to 29 January 2021\",\n",
    "    xaxis_title=\"Category Name\",\n",
    "    yaxis_title=\"Sales in dollars\",\n",
    "    )\n",
    "fig_reg.show()"
   ]
  },
  {
   "cell_type": "code",
   "execution_count": null,
   "metadata": {},
   "outputs": [],
   "source": [
    "full_df_city = df.groupby(['city','pack','date'])['sale_dollars'].sum().groupby(\n",
    "            ['city','pack']).max().sort_values().groupby(\n",
    "            ['city']).sum().sort_values(ascending=False)\n",
    "\n",
    "top_count10_city = pd.DataFrame(full_df_city.head(10))"
   ]
  },
  {
   "cell_type": "code",
   "execution_count": null,
   "metadata": {},
   "outputs": [],
   "source": [
    "fig_reg = px.bar(top_count10_city,x=top_count10_city.index, y='sale_dollars',color='sale_dollars')\n",
    "fig_reg.update_layout(\n",
    "    title=\"Top 10 Sales of liquor per city 01 January 2020 to 29 January 2021\",\n",
    "    xaxis_title=\"City Name\",\n",
    "    yaxis_title=\"Sales in dollars\",\n",
    "    )\n",
    "fig_reg.show()"
   ]
  },
  {
   "cell_type": "code",
   "execution_count": null,
   "metadata": {
    "scrolled": false
   },
   "outputs": [],
   "source": [
    "daily_sales = df.groupby('date', as_index=False)['sale_dollars'].sum()\n",
    "\n",
    "daily_sales_sc = go.Scatter(x=daily_sales['date'], y=daily_sales['sale_dollars'])\n",
    "layout = go.Layout(title='Daily sales 01 January 2020 to 29 January 2021', xaxis=dict(title='Date'), yaxis=dict(title='Sales'))\n",
    "fig = go.Figure(data=[daily_sales_sc], layout=layout)\n",
    "fig.show()"
   ]
  },
  {
   "cell_type": "code",
   "execution_count": null,
   "metadata": {},
   "outputs": [],
   "source": [
    "full_df_county = df.groupby(['county','pack','date'])['sale_dollars'].sum().groupby(\n",
    "            ['county','pack']).max().sort_values().groupby(\n",
    "            ['county']).sum().sort_values(ascending=False)\n",
    "\n",
    "top_count10_county = pd.DataFrame(full_df_county.head(10))\n",
    "\n",
    "fig_reg = px.bar(top_count10_county,x=top_count10_county.index, y='sale_dollars',color='sale_dollars')\n",
    "fig_reg.update_layout(\n",
    "    title=\"Sales of liquor per category\",\n",
    "    xaxis_title=\"county Name\",\n",
    "    yaxis_title=\"Sales in dollars\",\n",
    "    )\n",
    "\n",
    "fig_reg.show()"
   ]
  },
  {
   "cell_type": "markdown",
   "metadata": {},
   "source": [
    "### Covid-19 Situation \n",
    "\n",
    "Some people want to grab a during this pandemic situation we want to see the correlation of the covid-19 case and the daily sales, we extract some data from {https://open-iowa.opendata.arcgis.com/datasets/6a84756c2e444a87828bb7ce699fdac6_0/data?selectedAttribute=Country} and we combine the data and create a line chart."
   ]
  },
  {
   "cell_type": "code",
   "execution_count": null,
   "metadata": {},
   "outputs": [],
   "source": [
    "covid_iowa = pd.read_csv(\"Individuals Positive.csv\").rename(columns = {\"Date\": \"date\"})"
   ]
  },
  {
   "cell_type": "code",
   "execution_count": null,
   "metadata": {},
   "outputs": [],
   "source": [
    "fig = make_subplots(rows=2, cols=1)\n",
    "\n",
    "fig.add_trace(\n",
    "    go.Scatter(x=daily_sales[\"date\"], y=daily_sales['sale_dollars'], name=\"Liquor Sales\"),\n",
    "    row=1, col=1\n",
    ")\n",
    "\n",
    "fig.add_trace(\n",
    "    go.Scatter(x=covid_iowa[\"date\"], y=covid_iowa[\"Individuals Positive - 14 Day Rolling Total\"], name=\"Covid Case\"),\n",
    "    row=2, col=1\n",
    ")\n",
    "\n",
    "fig.update_layout(height=600, width=800, title_text=\"Iowa Liquor Sales Total and Covid Case Total\")\n",
    "fig.show()"
   ]
  },
  {
   "cell_type": "code",
   "execution_count": null,
   "metadata": {},
   "outputs": [],
   "source": [
    "fips = pd.read_excel(\"cofipsia.xlsx\").rename(columns = {\"County Name\":\"county\"})\n",
    "fips['county'] = fips['county'].str.replace(\" County\", \"\").str.upper()\n",
    "df_new = df.merge(fips, on = \"county\")"
   ]
  },
  {
   "cell_type": "code",
   "execution_count": null,
   "metadata": {},
   "outputs": [],
   "source": [
    "full_df_county_fips = df_new.groupby(['county', 'FIPS Code','pack','date'])['sale_dollars'].sum().groupby(\n",
    "            ['county', 'FIPS Code','pack']).max().sort_values().groupby(\n",
    "            ['county', 'FIPS Code']).sum().sort_values(ascending=False)\n",
    "\n",
    "fips_sales = pd.DataFrame(full_df_county_fips).reset_index()"
   ]
  },
  {
   "cell_type": "code",
   "execution_count": null,
   "metadata": {},
   "outputs": [],
   "source": [
    "from urllib.request import urlopen\n",
    "import json\n",
    "with urlopen('https://raw.githubusercontent.com/plotly/datasets/master/geojson-counties-fips.json') as response:\n",
    "    counties = json.load(response)\n",
    "    \n",
    "fig = px.choropleth(fips_sales, geojson=counties, locations='FIPS Code', color='sale_dollars',\n",
    "                           color_continuous_scale=\"Viridis\",\n",
    "                           scope=\"usa\",\n",
    "                           hover_name=\"county\",\n",
    "                           labels={'unemp':'sale_dollars'}\n",
    "                          )\n",
    "\n",
    "fig.update_geos(fitbounds=\"locations\", visible=False)\n",
    "fig.update_layout(title_text = 'Total Sales Iowa')\n",
    "fig.show()"
   ]
  },
  {
   "cell_type": "code",
   "execution_count": null,
   "metadata": {},
   "outputs": [],
   "source": [
    "covid_iowa_state = pd.read_csv(\"summary.csv\").rename(columns = {'County':'county'})\n",
    "covid_iowa_state[\"county\"] = covid_iowa_state[\"county\"].str.upper()\n",
    "\n",
    "covid_fips = covid_iowa_state.merge(fips, on = \"county\")"
   ]
  },
  {
   "cell_type": "code",
   "execution_count": null,
   "metadata": {},
   "outputs": [],
   "source": [
    "fig = px.choropleth(covid_fips, geojson=counties, locations='FIPS Code', color='Individuals Positive',\n",
    "                           color_continuous_scale=\"Viridis\",\n",
    "                           scope=\"usa\",\n",
    "                           hover_name=\"county\",\n",
    "                           labels={'unemp':'Individuals Positive'}\n",
    "                          )\n",
    "\n",
    "fig.update_geos(fitbounds=\"locations\", visible=False)\n",
    "fig.update_layout(title_text = 'Covid Case Iowa')\n",
    "fig.show()"
   ]
  },
  {
   "cell_type": "code",
   "execution_count": null,
   "metadata": {},
   "outputs": [],
   "source": [
    "df_plot = df_new.groupby(['category_name','pack','date'])['sale_dollars'].sum().groupby(\n",
    "            ['category_name','pack']).max().sort_values().groupby(\n",
    "            ['category_name']).sum().sort_values(ascending=False)\n",
    "top_count1_sale = pd.DataFrame(df_plot)\n",
    "\n",
    "df_plot = df_new.groupby(['category_name','pack','date'])['volume_sold_liters'].sum().groupby(\n",
    "            ['category_name','pack']).max().sort_values().groupby(\n",
    "            ['category_name']).sum().sort_values(ascending=False)\n",
    "top_count2_liter = pd.DataFrame(df_plot)"
   ]
  },
  {
   "cell_type": "code",
   "execution_count": null,
   "metadata": {},
   "outputs": [],
   "source": [
    "top_count = pd.concat([top_count1_sale , top_count2_liter],axis=1)\n",
    "top_count = top_count.sort_values(['sale_dollars'],ascending=False)[:10]\n"
   ]
  },
  {
   "cell_type": "code",
   "execution_count": null,
   "metadata": {},
   "outputs": [],
   "source": [
    "fig = go.Figure(data=[\n",
    "    go.Bar(name='sale in dollars',x=top_count.index, y=top_count['sale_dollars']),\n",
    "    go.Bar(name='Volume in litres',x=top_count.index, y=top_count['volume_sold_liters'])\n",
    "])\n",
    "# Change the bar mode\n",
    "fig.update_layout(barmode='group',title=\"Sales of liquors with category and the volume of liquor sold.\",\n",
    "    xaxis_title=\" category\",\n",
    "    yaxis_title=\"Sale and the amount of liquor sold in litre.\",)\n",
    "fig.show()"
   ]
  },
  {
   "cell_type": "code",
   "execution_count": null,
   "metadata": {},
   "outputs": [],
   "source": [
    "df_plot = df_new.groupby(['vendor_name','pack','date'])['volume_sold_liters'].sum().groupby(\n",
    "            ['vendor_name','pack']).max().sort_values().groupby(\n",
    "            ['vendor_name']).sum().sort_values(ascending=False)\n",
    "\n",
    "top_count1 = pd.DataFrame(df_plot.head(20))\n",
    "\n",
    "fig_reg = px.bar(top_count1,x=top_count1.index, y='volume_sold_liters',color='volume_sold_liters')\n",
    "fig_reg.update_layout(\n",
    "    title=\"Top 20 Volume sold by vendor name\",\n",
    "    xaxis_title=\" Vendor Name\",\n",
    "    yaxis_title=\"Liquor sold in Litres\",\n",
    "    )\n",
    "fig_reg.show()"
   ]
  },
  {
   "cell_type": "markdown",
   "metadata": {},
   "source": [
    "### RFM Analysis\n",
    "\n",
    "In this section we will do a store segmentation to see the behavior of every store. we will categorize in this part.\n",
    "\n",
    "Let’s delve into few interesting segments:\n",
    "\n",
    "- **Champions** are the best buyers, who have recently bought, most regularly, and are big spenders. And compensate these clients. For emerging products, they may become early adopters and help market the brand.\n",
    "\n",
    "- **Potential Loyalists** are average frequency of your latest consumers and who paid a decent amount. Give or suggest similar items to subscription or loyalty groups to upsell them and make them become the Loyalists or Champions.\n",
    "\n",
    "- **New Customers** are The clients who have a high RFM average score but are not regular shoppers. Start building partnerships with these consumers to maximize their visits by offering onboarding assistance and promotional deals.\n",
    "\n",
    "- **At Risk Customers** are your clients who ordered regularly and paid significant sums, but lately did not buy. To promote another order, give them customized reactivation campaigns to reconnect, and deliver renewals and beneficial goods.\n",
    "\n",
    "- **Can’t Lose Them** are customers who, very frequently, used to visit and order, but have not visited lately. To figure out what went wrong and stop losing them to a rival, get them back with appropriate incentives and run surveys.\n",
    "\n",
    "We will use this analysis to check the potential store so that we can develop and give them some suggestion about the sales."
   ]
  },
  {
   "cell_type": "code",
   "execution_count": null,
   "metadata": {},
   "outputs": [],
   "source": [
    "Frequency = df_new.groupby(\"store_number\").count()[[\"invoice_and_item_number\"]]"
   ]
  },
  {
   "cell_type": "code",
   "execution_count": null,
   "metadata": {},
   "outputs": [],
   "source": [
    "MonetaryValue = df_new.groupby(\"store_number\").sum()[[\"sale_dollars\"]]"
   ]
  },
  {
   "cell_type": "code",
   "execution_count": null,
   "metadata": {},
   "outputs": [],
   "source": [
    "df_new['date'] = pd.to_datetime(df_new['date'])"
   ]
  },
  {
   "cell_type": "code",
   "execution_count": null,
   "metadata": {},
   "outputs": [],
   "source": [
    "date_df = df_new.groupby([\"store_number\", 'date']).count().reset_index()[[\"store_number\", 'date']]\n",
    "list_cust = list(set(df_new[\"store_number\"]))\n",
    "last_purch = []\n",
    "for i in list_cust:\n",
    "    c = datetime.datetime(2021, 1, 30) - date_df[date_df[\"store_number\"] == i][\"date\"][-1:]\n",
    "    c = c/np.timedelta64(1, 'D')\n",
    "    last_purch.append(int(c))"
   ]
  },
  {
   "cell_type": "code",
   "execution_count": null,
   "metadata": {},
   "outputs": [],
   "source": [
    "Recency = pd.DataFrame({\"store_number\":list_cust, \"last_transaction_day\":  last_purch}).set_index(\"store_number\")"
   ]
  },
  {
   "cell_type": "code",
   "execution_count": null,
   "metadata": {},
   "outputs": [],
   "source": [
    "df_rfm = pd.concat([Recency, Frequency, MonetaryValue], axis=1)"
   ]
  },
  {
   "cell_type": "code",
   "execution_count": null,
   "metadata": {},
   "outputs": [],
   "source": [
    "# Create labels for Recency and Frequency\n",
    "r_labels = range(4, 0, -1); f_labels = range(1, 5)\n",
    "\n",
    "# Assign these labels to 4 equal percentile groups \n",
    "r_groups = pd.qcut(df_rfm['last_transaction_day'], q=4, labels=r_labels)\n",
    "# Assign these labels to 4 equal percentile groups \n",
    "f_groups = pd.qcut(df_rfm['invoice_and_item_number'], q=4, labels=f_labels)"
   ]
  },
  {
   "cell_type": "code",
   "execution_count": null,
   "metadata": {},
   "outputs": [],
   "source": [
    "df_rfm = df_rfm.assign(R = r_groups.values, F = f_groups.values)\n",
    "# Create labels for MonetaryValue\n",
    "m_labels = range(1, 5)\n",
    "# Assign these labels to three equal percentile groups \n",
    "m_groups = pd.qcut(df_rfm['sale_dollars'], q=4, labels=m_labels)\n",
    "# Create new column M\n",
    "df_rfm = df_rfm.assign(M = m_groups.values)"
   ]
  },
  {
   "cell_type": "code",
   "execution_count": null,
   "metadata": {},
   "outputs": [],
   "source": [
    "df_rfm['RFM_Score'] = df_rfm[['R','F','M']].sum(axis=1)"
   ]
  },
  {
   "cell_type": "code",
   "execution_count": null,
   "metadata": {},
   "outputs": [],
   "source": [
    "def rfm_level(df):\n",
    "    if df['RFM_Score'] >= 9:\n",
    "        return 'Can\\'t Loose Them'\n",
    "    elif ((df['RFM_Score'] >= 8) and (df['RFM_Score'] < 9)):\n",
    "        return 'Champions'\n",
    "    elif ((df['RFM_Score'] >= 7) and (df['RFM_Score'] < 8)):\n",
    "        return 'Loyal'\n",
    "    elif ((df['RFM_Score'] >= 6) and (df['RFM_Score'] < 7)):\n",
    "        return 'Potential'\n",
    "    elif ((df['RFM_Score'] >= 5) and (df['RFM_Score'] < 6)):\n",
    "        return 'Promising'\n",
    "    elif ((df['RFM_Score'] >= 4) and (df['RFM_Score'] < 5)):\n",
    "        return 'Needs Attention'\n",
    "    else:\n",
    "        return 'Require Activation'\n",
    "\n",
    "# Create a new variable RFM_Level\n",
    "df_rfm['RFM_Level'] = df_rfm.apply(rfm_level, axis=1)\n",
    "# Print the header with top 5 rows to the console"
   ]
  },
  {
   "cell_type": "code",
   "execution_count": null,
   "metadata": {},
   "outputs": [],
   "source": [
    "rfm_level = pd.DataFrame(df_rfm[[\"RFM_Level\"]].value_counts()).reset_index()\n",
    "\n",
    "fig_reg = px.bar(rfm_level,x=\"RFM_Level\", y = 0, color=\"RFM_Level\")\n",
    "\n",
    "fig_reg.update_layout(\n",
    "    title=\"Number of Store based on level\",\n",
    "    xaxis_title=\"Level\",\n",
    "    yaxis_title=\"Count total\",\n",
    "    )\n",
    "fig_reg.show()"
   ]
  },
  {
   "cell_type": "code",
   "execution_count": null,
   "metadata": {},
   "outputs": [],
   "source": [
    "fig = px.scatter(df_rfm, x=\"invoice_and_item_number\", y=\"last_transaction_day\", color=\"RFM_Level\")\n",
    "fig.update_layout(\n",
    "    title=\"Recency vs Frequency\",\n",
    "    xaxis_title=\"Frequency\",\n",
    "    yaxis_title=\"Recency\",\n",
    "    )\n",
    "fig.show()\n",
    "\n",
    "fig = px.scatter(df_rfm, x=\"sale_dollars\", y=\"invoice_and_item_number\", color=\"RFM_Level\")\n",
    "fig.update_layout(\n",
    "    title=\"MonetaryValue vs Frequency\",\n",
    "    xaxis_title=\"MonetaryValue\",\n",
    "    yaxis_title=\"Frequency\",\n",
    "    )\n",
    "fig.show()\n",
    "\n",
    "fig = px.scatter(df_rfm, x=\"last_transaction_day\", y=\"sale_dollars\", color=\"RFM_Level\")\n",
    "fig.update_layout(\n",
    "    title=\"Recency vs MonetaryValue\",\n",
    "    xaxis_title=\"Recency\",\n",
    "    yaxis_title=\"MonetaryValue\",\n",
    "    )\n",
    "fig.show()"
   ]
  },
  {
   "cell_type": "code",
   "execution_count": null,
   "metadata": {},
   "outputs": [],
   "source": []
  },
  {
   "cell_type": "code",
   "execution_count": null,
   "metadata": {},
   "outputs": [],
   "source": []
  }
 ],
 "metadata": {
  "hide_input": false,
  "kernelspec": {
   "display_name": "Python 3",
   "language": "python",
   "name": "python3"
  },
  "language_info": {
   "codemirror_mode": {
    "name": "ipython",
    "version": 3
   },
   "file_extension": ".py",
   "mimetype": "text/x-python",
   "name": "python",
   "nbconvert_exporter": "python",
   "pygments_lexer": "ipython3",
   "version": "3.7.1"
  }
 },
 "nbformat": 4,
 "nbformat_minor": 4
}
